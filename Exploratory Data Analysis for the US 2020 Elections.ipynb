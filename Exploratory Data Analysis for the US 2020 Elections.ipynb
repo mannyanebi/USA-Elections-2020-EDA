{
 "cells": [
  {
   "cell_type": "markdown",
   "metadata": {},
   "source": [
    "# Project: EXPLORATORY DATA ANALYSIS FOR UNITED STATES’ PRESIDENTIAL ELECTIONS\n",
    "\n",
    "**Using US Election 2020 from Kaggle**\n",
    "\n",
    "### So, lets explore!"
   ]
  },
  {
   "cell_type": "code",
   "execution_count": 1,
   "metadata": {},
   "outputs": [],
   "source": [
    "#import packages\n",
    "\n",
    "import pandas as pd\n",
    "import numpy as np\n",
    "import matplotlib.pyplot as plt\n",
    "\n",
    "plt.style.use('ggplot')"
   ]
  },
  {
   "cell_type": "code",
   "execution_count": 2,
   "metadata": {},
   "outputs": [],
   "source": [
    "#import and read the dataset\n",
    "uselections = pd.read_csv(\"president_county_candidate.csv\")"
   ]
  },
  {
   "cell_type": "code",
   "execution_count": 3,
   "metadata": {},
   "outputs": [
    {
     "data": {
      "text/html": [
       "<div>\n",
       "<style scoped>\n",
       "    .dataframe tbody tr th:only-of-type {\n",
       "        vertical-align: middle;\n",
       "    }\n",
       "\n",
       "    .dataframe tbody tr th {\n",
       "        vertical-align: top;\n",
       "    }\n",
       "\n",
       "    .dataframe thead th {\n",
       "        text-align: right;\n",
       "    }\n",
       "</style>\n",
       "<table border=\"1\" class=\"dataframe\">\n",
       "  <thead>\n",
       "    <tr style=\"text-align: right;\">\n",
       "      <th></th>\n",
       "      <th>state</th>\n",
       "      <th>county</th>\n",
       "      <th>candidate</th>\n",
       "      <th>party</th>\n",
       "      <th>total_votes</th>\n",
       "      <th>won</th>\n",
       "    </tr>\n",
       "  </thead>\n",
       "  <tbody>\n",
       "    <tr>\n",
       "      <th>0</th>\n",
       "      <td>Delaware</td>\n",
       "      <td>Kent County</td>\n",
       "      <td>Joe Biden</td>\n",
       "      <td>DEM</td>\n",
       "      <td>44552</td>\n",
       "      <td>True</td>\n",
       "    </tr>\n",
       "    <tr>\n",
       "      <th>1</th>\n",
       "      <td>Delaware</td>\n",
       "      <td>Kent County</td>\n",
       "      <td>Donald Trump</td>\n",
       "      <td>REP</td>\n",
       "      <td>41009</td>\n",
       "      <td>False</td>\n",
       "    </tr>\n",
       "    <tr>\n",
       "      <th>2</th>\n",
       "      <td>Delaware</td>\n",
       "      <td>Kent County</td>\n",
       "      <td>Jo Jorgensen</td>\n",
       "      <td>LIB</td>\n",
       "      <td>1044</td>\n",
       "      <td>False</td>\n",
       "    </tr>\n",
       "    <tr>\n",
       "      <th>3</th>\n",
       "      <td>Delaware</td>\n",
       "      <td>Kent County</td>\n",
       "      <td>Howie Hawkins</td>\n",
       "      <td>GRN</td>\n",
       "      <td>420</td>\n",
       "      <td>False</td>\n",
       "    </tr>\n",
       "    <tr>\n",
       "      <th>4</th>\n",
       "      <td>Delaware</td>\n",
       "      <td>New Castle County</td>\n",
       "      <td>Joe Biden</td>\n",
       "      <td>DEM</td>\n",
       "      <td>195034</td>\n",
       "      <td>True</td>\n",
       "    </tr>\n",
       "  </tbody>\n",
       "</table>\n",
       "</div>"
      ],
      "text/plain": [
       "      state             county      candidate party  total_votes    won\n",
       "0  Delaware        Kent County      Joe Biden   DEM        44552   True\n",
       "1  Delaware        Kent County   Donald Trump   REP        41009  False\n",
       "2  Delaware        Kent County   Jo Jorgensen   LIB         1044  False\n",
       "3  Delaware        Kent County  Howie Hawkins   GRN          420  False\n",
       "4  Delaware  New Castle County      Joe Biden   DEM       195034   True"
      ]
     },
     "execution_count": 3,
     "metadata": {},
     "output_type": "execute_result"
    }
   ],
   "source": [
    "#print the head of the dataframe\n",
    "uselections.head()"
   ]
  },
  {
   "cell_type": "code",
   "execution_count": null,
   "metadata": {},
   "outputs": [],
   "source": [
    "uselections.info()"
   ]
  },
  {
   "cell_type": "markdown",
   "metadata": {},
   "source": [
    "### 1. Let's compare the votes for Democrats against Republicans"
   ]
  },
  {
   "cell_type": "code",
   "execution_count": 4,
   "metadata": {},
   "outputs": [],
   "source": [
    "#Let's select rows for democrats votes\n",
    "\n",
    "dems = uselections[uselections[\"party\"]==\"DEM\"]"
   ]
  },
  {
   "cell_type": "code",
   "execution_count": 5,
   "metadata": {},
   "outputs": [
    {
     "name": "stdout",
     "output_type": "stream",
     "text": [
      "4633\n"
     ]
    },
    {
     "data": {
      "text/html": [
       "<div>\n",
       "<style scoped>\n",
       "    .dataframe tbody tr th:only-of-type {\n",
       "        vertical-align: middle;\n",
       "    }\n",
       "\n",
       "    .dataframe tbody tr th {\n",
       "        vertical-align: top;\n",
       "    }\n",
       "\n",
       "    .dataframe thead th {\n",
       "        text-align: right;\n",
       "    }\n",
       "</style>\n",
       "<table border=\"1\" class=\"dataframe\">\n",
       "  <thead>\n",
       "    <tr style=\"text-align: right;\">\n",
       "      <th></th>\n",
       "      <th>state</th>\n",
       "      <th>county</th>\n",
       "      <th>candidate</th>\n",
       "      <th>party</th>\n",
       "      <th>total_votes</th>\n",
       "      <th>won</th>\n",
       "    </tr>\n",
       "  </thead>\n",
       "  <tbody>\n",
       "    <tr>\n",
       "      <th>0</th>\n",
       "      <td>Delaware</td>\n",
       "      <td>Kent County</td>\n",
       "      <td>Joe Biden</td>\n",
       "      <td>DEM</td>\n",
       "      <td>44552</td>\n",
       "      <td>True</td>\n",
       "    </tr>\n",
       "    <tr>\n",
       "      <th>4</th>\n",
       "      <td>Delaware</td>\n",
       "      <td>New Castle County</td>\n",
       "      <td>Joe Biden</td>\n",
       "      <td>DEM</td>\n",
       "      <td>195034</td>\n",
       "      <td>True</td>\n",
       "    </tr>\n",
       "    <tr>\n",
       "      <th>9</th>\n",
       "      <td>Delaware</td>\n",
       "      <td>Sussex County</td>\n",
       "      <td>Joe Biden</td>\n",
       "      <td>DEM</td>\n",
       "      <td>56682</td>\n",
       "      <td>False</td>\n",
       "    </tr>\n",
       "    <tr>\n",
       "      <th>12</th>\n",
       "      <td>District of Columbia</td>\n",
       "      <td>District of Columbia</td>\n",
       "      <td>Joe Biden</td>\n",
       "      <td>DEM</td>\n",
       "      <td>38037</td>\n",
       "      <td>True</td>\n",
       "    </tr>\n",
       "    <tr>\n",
       "      <th>19</th>\n",
       "      <td>District of Columbia</td>\n",
       "      <td>Ward 2</td>\n",
       "      <td>Joe Biden</td>\n",
       "      <td>DEM</td>\n",
       "      <td>28185</td>\n",
       "      <td>True</td>\n",
       "    </tr>\n",
       "  </tbody>\n",
       "</table>\n",
       "</div>"
      ],
      "text/plain": [
       "                   state                county  candidate party  total_votes  \\\n",
       "0               Delaware           Kent County  Joe Biden   DEM        44552   \n",
       "4               Delaware     New Castle County  Joe Biden   DEM       195034   \n",
       "9               Delaware         Sussex County  Joe Biden   DEM        56682   \n",
       "12  District of Columbia  District of Columbia  Joe Biden   DEM        38037   \n",
       "19  District of Columbia                Ward 2  Joe Biden   DEM        28185   \n",
       "\n",
       "      won  \n",
       "0    True  \n",
       "4    True  \n",
       "9   False  \n",
       "12   True  \n",
       "19   True  "
      ]
     },
     "execution_count": 5,
     "metadata": {},
     "output_type": "execute_result"
    }
   ],
   "source": [
    "print(len(dems))\n",
    "\n",
    "dems.head()"
   ]
  },
  {
   "cell_type": "code",
   "execution_count": 6,
   "metadata": {},
   "outputs": [],
   "source": [
    "#Let's select rows for republicans votes\n",
    "\n",
    "reps = uselections[uselections[\"party\"]==\"REP\"]"
   ]
  },
  {
   "cell_type": "code",
   "execution_count": 7,
   "metadata": {},
   "outputs": [
    {
     "name": "stdout",
     "output_type": "stream",
     "text": [
      "4633\n"
     ]
    },
    {
     "data": {
      "text/html": [
       "<div>\n",
       "<style scoped>\n",
       "    .dataframe tbody tr th:only-of-type {\n",
       "        vertical-align: middle;\n",
       "    }\n",
       "\n",
       "    .dataframe tbody tr th {\n",
       "        vertical-align: top;\n",
       "    }\n",
       "\n",
       "    .dataframe thead th {\n",
       "        text-align: right;\n",
       "    }\n",
       "</style>\n",
       "<table border=\"1\" class=\"dataframe\">\n",
       "  <thead>\n",
       "    <tr style=\"text-align: right;\">\n",
       "      <th></th>\n",
       "      <th>state</th>\n",
       "      <th>county</th>\n",
       "      <th>candidate</th>\n",
       "      <th>party</th>\n",
       "      <th>total_votes</th>\n",
       "      <th>won</th>\n",
       "    </tr>\n",
       "  </thead>\n",
       "  <tbody>\n",
       "    <tr>\n",
       "      <th>1</th>\n",
       "      <td>Delaware</td>\n",
       "      <td>Kent County</td>\n",
       "      <td>Donald Trump</td>\n",
       "      <td>REP</td>\n",
       "      <td>41009</td>\n",
       "      <td>False</td>\n",
       "    </tr>\n",
       "    <tr>\n",
       "      <th>5</th>\n",
       "      <td>Delaware</td>\n",
       "      <td>New Castle County</td>\n",
       "      <td>Donald Trump</td>\n",
       "      <td>REP</td>\n",
       "      <td>88364</td>\n",
       "      <td>False</td>\n",
       "    </tr>\n",
       "    <tr>\n",
       "      <th>8</th>\n",
       "      <td>Delaware</td>\n",
       "      <td>Sussex County</td>\n",
       "      <td>Donald Trump</td>\n",
       "      <td>REP</td>\n",
       "      <td>71230</td>\n",
       "      <td>True</td>\n",
       "    </tr>\n",
       "    <tr>\n",
       "      <th>13</th>\n",
       "      <td>District of Columbia</td>\n",
       "      <td>District of Columbia</td>\n",
       "      <td>Donald Trump</td>\n",
       "      <td>REP</td>\n",
       "      <td>1703</td>\n",
       "      <td>False</td>\n",
       "    </tr>\n",
       "    <tr>\n",
       "      <th>20</th>\n",
       "      <td>District of Columbia</td>\n",
       "      <td>Ward 2</td>\n",
       "      <td>Donald Trump</td>\n",
       "      <td>REP</td>\n",
       "      <td>2874</td>\n",
       "      <td>False</td>\n",
       "    </tr>\n",
       "  </tbody>\n",
       "</table>\n",
       "</div>"
      ],
      "text/plain": [
       "                   state                county     candidate party  \\\n",
       "1               Delaware           Kent County  Donald Trump   REP   \n",
       "5               Delaware     New Castle County  Donald Trump   REP   \n",
       "8               Delaware         Sussex County  Donald Trump   REP   \n",
       "13  District of Columbia  District of Columbia  Donald Trump   REP   \n",
       "20  District of Columbia                Ward 2  Donald Trump   REP   \n",
       "\n",
       "    total_votes    won  \n",
       "1         41009  False  \n",
       "5         88364  False  \n",
       "8         71230   True  \n",
       "13         1703  False  \n",
       "20         2874  False  "
      ]
     },
     "execution_count": 7,
     "metadata": {},
     "output_type": "execute_result"
    }
   ],
   "source": [
    "print(len(reps))\n",
    "\n",
    "reps.head()"
   ]
  },
  {
   "cell_type": "code",
   "execution_count": 8,
   "metadata": {},
   "outputs": [
    {
     "data": {
      "image/png": "[encoded data removed]",
      "text/plain": [
       "<Figure size 1044x468 with 1 Axes>"
      ]
     },
     "metadata": {
      "needs_background": "light"
     },
     "output_type": "display_data"
    }
   ],
   "source": [
    "fig, ax = plt.subplots()\n",
    "fig.set_size_inches(14.5, 6.5)\n",
    "\n",
    "reps_dems_votes = ax.bar([1, 4],[len(reps), len(dems)], width=1.2)\n",
    "reps_dems_votes[0].set_color('b')\n",
    "plt.show()"
   ]
  },
  {
   "cell_type": "markdown",
   "metadata": {},
   "source": [
    "#### You can see that the samples from the dataset gives us equal votes for the two parties - The Republicans and The Democrats. "
   ]
  },
  {
   "cell_type": "markdown",
   "metadata": {},
   "source": [
    "### 2. Let's compare the votes for Democrats against Republicans in Swing states"
   ]
  },
  {
   "cell_type": "markdown",
   "metadata": {},
   "source": [
    "#### A swing state (or battleground state) refers to any state that could reasonably be won by either the Democratic or Republican presidential candidate by a swing in votes.\n",
    "\n",
    "#### The list of 2020 election swing states are: Wisconsin, Pennsylvania, New Hampshire, Minnesota, Arizona, Georgia, Florida, Michigan, Nevada, North Carolina, Iowa, Ohio, Texas"
   ]
  },
  {
   "cell_type": "code",
   "execution_count": 9,
   "metadata": {},
   "outputs": [
    {
     "name": "stdout",
     "output_type": "stream",
     "text": [
      "7272\n"
     ]
    },
    {
     "data": {
      "text/html": [
       "<div>\n",
       "<style scoped>\n",
       "    .dataframe tbody tr th:only-of-type {\n",
       "        vertical-align: middle;\n",
       "    }\n",
       "\n",
       "    .dataframe tbody tr th {\n",
       "        vertical-align: top;\n",
       "    }\n",
       "\n",
       "    .dataframe thead th {\n",
       "        text-align: right;\n",
       "    }\n",
       "</style>\n",
       "<table border=\"1\" class=\"dataframe\">\n",
       "  <thead>\n",
       "    <tr style=\"text-align: right;\">\n",
       "      <th></th>\n",
       "      <th>state</th>\n",
       "      <th>county</th>\n",
       "      <th>candidate</th>\n",
       "      <th>party</th>\n",
       "      <th>total_votes</th>\n",
       "      <th>won</th>\n",
       "    </tr>\n",
       "  </thead>\n",
       "  <tbody>\n",
       "    <tr>\n",
       "      <th>68</th>\n",
       "      <td>Florida</td>\n",
       "      <td>Alachua County</td>\n",
       "      <td>Joe Biden</td>\n",
       "      <td>DEM</td>\n",
       "      <td>89704</td>\n",
       "      <td>True</td>\n",
       "    </tr>\n",
       "    <tr>\n",
       "      <th>69</th>\n",
       "      <td>Florida</td>\n",
       "      <td>Alachua County</td>\n",
       "      <td>Donald Trump</td>\n",
       "      <td>REP</td>\n",
       "      <td>50972</td>\n",
       "      <td>False</td>\n",
       "    </tr>\n",
       "    <tr>\n",
       "      <th>70</th>\n",
       "      <td>Florida</td>\n",
       "      <td>Alachua County</td>\n",
       "      <td>Jo Jorgensen</td>\n",
       "      <td>LIB</td>\n",
       "      <td>1390</td>\n",
       "      <td>False</td>\n",
       "    </tr>\n",
       "    <tr>\n",
       "      <th>71</th>\n",
       "      <td>Florida</td>\n",
       "      <td>Alachua County</td>\n",
       "      <td>Howie Hawkins</td>\n",
       "      <td>GRN</td>\n",
       "      <td>302</td>\n",
       "      <td>False</td>\n",
       "    </tr>\n",
       "    <tr>\n",
       "      <th>72</th>\n",
       "      <td>Florida</td>\n",
       "      <td>Alachua County</td>\n",
       "      <td>Gloria La Riva</td>\n",
       "      <td>PSL</td>\n",
       "      <td>94</td>\n",
       "      <td>False</td>\n",
       "    </tr>\n",
       "  </tbody>\n",
       "</table>\n",
       "</div>"
      ],
      "text/plain": [
       "      state          county       candidate party  total_votes    won\n",
       "68  Florida  Alachua County       Joe Biden   DEM        89704   True\n",
       "69  Florida  Alachua County    Donald Trump   REP        50972  False\n",
       "70  Florida  Alachua County    Jo Jorgensen   LIB         1390  False\n",
       "71  Florida  Alachua County   Howie Hawkins   GRN          302  False\n",
       "72  Florida  Alachua County  Gloria La Riva   PSL           94  False"
      ]
     },
     "execution_count": 9,
     "metadata": {},
     "output_type": "execute_result"
    }
   ],
   "source": [
    "#Let's select rows for votes from swing states\n",
    "\n",
    "swingstates = [\"Wisconsin\",\"Pennsylvania\",\"New Hampshire\", \"Minnesota\", \"Arizona\", \"Georgia\", \"Florida\", \"Michigan\", \"Nevada\", \"North Carolina\", \"Iowa\", \"Ohio\", \"Texas\"]\n",
    "\n",
    "swingvotes = uselections[uselections['state'].isin(swingstates)]\n",
    "\n",
    "print(len(swingvotes))\n",
    "\n",
    "swingvotes.head()"
   ]
  },
  {
   "cell_type": "code",
   "execution_count": 10,
   "metadata": {},
   "outputs": [
    {
     "name": "stdout",
     "output_type": "stream",
     "text": [
      "The Total number of votes for Republicans in all swing states is 1345\n"
     ]
    },
    {
     "data": {
      "text/html": [
       "<div>\n",
       "<style scoped>\n",
       "    .dataframe tbody tr th:only-of-type {\n",
       "        vertical-align: middle;\n",
       "    }\n",
       "\n",
       "    .dataframe tbody tr th {\n",
       "        vertical-align: top;\n",
       "    }\n",
       "\n",
       "    .dataframe thead th {\n",
       "        text-align: right;\n",
       "    }\n",
       "</style>\n",
       "<table border=\"1\" class=\"dataframe\">\n",
       "  <thead>\n",
       "    <tr style=\"text-align: right;\">\n",
       "      <th></th>\n",
       "      <th>state</th>\n",
       "      <th>county</th>\n",
       "      <th>candidate</th>\n",
       "      <th>party</th>\n",
       "      <th>total_votes</th>\n",
       "      <th>won</th>\n",
       "    </tr>\n",
       "  </thead>\n",
       "  <tbody>\n",
       "    <tr>\n",
       "      <th>68</th>\n",
       "      <td>Florida</td>\n",
       "      <td>Alachua County</td>\n",
       "      <td>Joe Biden</td>\n",
       "      <td>DEM</td>\n",
       "      <td>89704</td>\n",
       "      <td>True</td>\n",
       "    </tr>\n",
       "    <tr>\n",
       "      <th>77</th>\n",
       "      <td>Florida</td>\n",
       "      <td>Baker County</td>\n",
       "      <td>Joe Biden</td>\n",
       "      <td>DEM</td>\n",
       "      <td>2037</td>\n",
       "      <td>False</td>\n",
       "    </tr>\n",
       "    <tr>\n",
       "      <th>85</th>\n",
       "      <td>Florida</td>\n",
       "      <td>Bay County</td>\n",
       "      <td>Joe Biden</td>\n",
       "      <td>DEM</td>\n",
       "      <td>25614</td>\n",
       "      <td>False</td>\n",
       "    </tr>\n",
       "    <tr>\n",
       "      <th>93</th>\n",
       "      <td>Florida</td>\n",
       "      <td>Bradford County</td>\n",
       "      <td>Joe Biden</td>\n",
       "      <td>DEM</td>\n",
       "      <td>3160</td>\n",
       "      <td>False</td>\n",
       "    </tr>\n",
       "    <tr>\n",
       "      <th>101</th>\n",
       "      <td>Florida</td>\n",
       "      <td>Brevard County</td>\n",
       "      <td>Joe Biden</td>\n",
       "      <td>DEM</td>\n",
       "      <td>148549</td>\n",
       "      <td>False</td>\n",
       "    </tr>\n",
       "  </tbody>\n",
       "</table>\n",
       "</div>"
      ],
      "text/plain": [
       "       state           county  candidate party  total_votes    won\n",
       "68   Florida   Alachua County  Joe Biden   DEM        89704   True\n",
       "77   Florida     Baker County  Joe Biden   DEM         2037  False\n",
       "85   Florida       Bay County  Joe Biden   DEM        25614  False\n",
       "93   Florida  Bradford County  Joe Biden   DEM         3160  False\n",
       "101  Florida   Brevard County  Joe Biden   DEM       148549  False"
      ]
     },
     "execution_count": 10,
     "metadata": {},
     "output_type": "execute_result"
    }
   ],
   "source": [
    "#Let's select rows for democrats votes\n",
    "dems_swing = swingvotes[swingvotes[\"party\"]==\"DEM\"]\n",
    "\n",
    "print(\"The Total number of votes for Republicans in all swing states is\" , len(dems_swing))\n",
    "\n",
    "dems_swing.head()"
   ]
  },
  {
   "cell_type": "code",
   "execution_count": 11,
   "metadata": {},
   "outputs": [
    {
     "name": "stdout",
     "output_type": "stream",
     "text": [
      "The Total number of votes for Republicans in all swing states is 1345\n"
     ]
    },
    {
     "data": {
      "text/html": [
       "<div>\n",
       "<style scoped>\n",
       "    .dataframe tbody tr th:only-of-type {\n",
       "        vertical-align: middle;\n",
       "    }\n",
       "\n",
       "    .dataframe tbody tr th {\n",
       "        vertical-align: top;\n",
       "    }\n",
       "\n",
       "    .dataframe thead th {\n",
       "        text-align: right;\n",
       "    }\n",
       "</style>\n",
       "<table border=\"1\" class=\"dataframe\">\n",
       "  <thead>\n",
       "    <tr style=\"text-align: right;\">\n",
       "      <th></th>\n",
       "      <th>state</th>\n",
       "      <th>county</th>\n",
       "      <th>candidate</th>\n",
       "      <th>party</th>\n",
       "      <th>total_votes</th>\n",
       "      <th>won</th>\n",
       "    </tr>\n",
       "  </thead>\n",
       "  <tbody>\n",
       "    <tr>\n",
       "      <th>69</th>\n",
       "      <td>Florida</td>\n",
       "      <td>Alachua County</td>\n",
       "      <td>Donald Trump</td>\n",
       "      <td>REP</td>\n",
       "      <td>50972</td>\n",
       "      <td>False</td>\n",
       "    </tr>\n",
       "    <tr>\n",
       "      <th>76</th>\n",
       "      <td>Florida</td>\n",
       "      <td>Baker County</td>\n",
       "      <td>Donald Trump</td>\n",
       "      <td>REP</td>\n",
       "      <td>11911</td>\n",
       "      <td>True</td>\n",
       "    </tr>\n",
       "    <tr>\n",
       "      <th>84</th>\n",
       "      <td>Florida</td>\n",
       "      <td>Bay County</td>\n",
       "      <td>Donald Trump</td>\n",
       "      <td>REP</td>\n",
       "      <td>66097</td>\n",
       "      <td>True</td>\n",
       "    </tr>\n",
       "    <tr>\n",
       "      <th>92</th>\n",
       "      <td>Florida</td>\n",
       "      <td>Bradford County</td>\n",
       "      <td>Donald Trump</td>\n",
       "      <td>REP</td>\n",
       "      <td>10334</td>\n",
       "      <td>True</td>\n",
       "    </tr>\n",
       "    <tr>\n",
       "      <th>100</th>\n",
       "      <td>Florida</td>\n",
       "      <td>Brevard County</td>\n",
       "      <td>Donald Trump</td>\n",
       "      <td>REP</td>\n",
       "      <td>207883</td>\n",
       "      <td>True</td>\n",
       "    </tr>\n",
       "  </tbody>\n",
       "</table>\n",
       "</div>"
      ],
      "text/plain": [
       "       state           county     candidate party  total_votes    won\n",
       "69   Florida   Alachua County  Donald Trump   REP        50972  False\n",
       "76   Florida     Baker County  Donald Trump   REP        11911   True\n",
       "84   Florida       Bay County  Donald Trump   REP        66097   True\n",
       "92   Florida  Bradford County  Donald Trump   REP        10334   True\n",
       "100  Florida   Brevard County  Donald Trump   REP       207883   True"
      ]
     },
     "execution_count": 11,
     "metadata": {},
     "output_type": "execute_result"
    }
   ],
   "source": [
    "#Let's select rows for republicans votes\n",
    "reps_swing = swingvotes[swingvotes[\"party\"]==\"REP\"]\n",
    "\n",
    "print(\"The Total number of votes for Republicans in all swing states is\" , len(reps_swing))\n",
    "\n",
    "reps_swing.head()"
   ]
  },
  {
   "cell_type": "code",
   "execution_count": 12,
   "metadata": {},
   "outputs": [
    {
     "data": {
      "image/png": "[encoded data removed]",
      "text/plain": [
       "<Figure size 1044x468 with 1 Axes>"
      ]
     },
     "metadata": {
      "needs_background": "light"
     },
     "output_type": "display_data"
    }
   ],
   "source": [
    "fig, ax = plt.subplots()\n",
    "fig.set_size_inches(14.5, 6.5)\n",
    "\n",
    "reps_dems_votes = ax.bar([1, 4],[len(reps_swing), len(dems_swing)], width=1.2)\n",
    "reps_dems_votes[0].set_color('b')\n",
    "plt.show()"
   ]
  },
  {
   "cell_type": "markdown",
   "metadata": {},
   "source": [
    "#### You can see that the samples from the dataset that both main candidates Joe Biden and Donald Trump have equal votes. Could this dataset be bias or neutral?"
   ]
  },
  {
   "cell_type": "markdown",
   "metadata": {},
   "source": [
    "### 3. What is the percentage share of swing state votes among the total votes"
   ]
  },
  {
   "cell_type": "code",
   "execution_count": 13,
   "metadata": {},
   "outputs": [
    {
     "data": {
      "image/png": "[encoded data removed]",
      "text/plain": [
       "<Figure size 1044x468 with 1 Axes>"
      ]
     },
     "metadata": {},
     "output_type": "display_data"
    }
   ],
   "source": [
    "labels = \"Swing States\", \"Other States\"\n",
    "\n",
    "sizes = [23.15, 76.85]\n",
    "\n",
    "explode = (0, 0.1)\n",
    "\n",
    "fig, ax = plt.subplots()\n",
    "fig.set_size_inches(14.5, 6.5)\n",
    "\n",
    "ax.pie(sizes, explode=explode, labels=labels, autopct='%1.1f%%', shadow=True, startangle=90)\n",
    "\n",
    "ax.axis('equal')\n",
    "\n",
    "plt.show()"
   ]
  },
  {
   "cell_type": "markdown",
   "metadata": {},
   "source": [
    "## Conclusion:\n",
    "\n",
    "#### Clearly the number of total voters in the other states are thrice as more than the voters in the swing states.\n",
    "\n",
    "#### Yet the swing states have more electoral votes in the electoral college. \n",
    "\n",
    "#### But concerning this dataset, I believe the dataset is bias or was generated from Hacker Statistics Simulations, hence the equal votes values for the two main election candidates, thus no candidate can be declared a winner."
   ]
  }
 ],
 "metadata": {
  "kernelspec": {
   "display_name": "Python 3",
   "language": "python",
   "name": "python3"
  },
  "language_info": {
   "codemirror_mode": {
    "name": "ipython",
    "version": 3
   },
   "file_extension": ".py",
   "mimetype": "text/x-python",
   "name": "python",
   "nbconvert_exporter": "python",
   "pygments_lexer": "ipython3",
   "version": "3.7.1"
  }
 },
 "nbformat": 4,
 "nbformat_minor": 2
}
